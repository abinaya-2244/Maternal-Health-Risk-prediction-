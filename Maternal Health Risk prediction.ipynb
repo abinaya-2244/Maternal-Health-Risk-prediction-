{
  "cells": [
    {
      "cell_type": "markdown",
      "metadata": {
        "id": "3J0znynaOGfB"
      },
      "source": [
        "Dataset Download"
      ]
    },
    {
      "cell_type": "code",
      "execution_count": null,
      "metadata": {
        "id": "Tr-zWVvTNqDD"
      },
      "outputs": [],
      "source": [
        "import numpy as np\n",
        "import pandas as pd\n",
        "import matplotlib.pyplot as plt\n",
        "import seaborn as sns\n",
        "import warnings\n",
        "warnings.filterwarnings(\"ignore\")\n",
        "from sklearn.model_selection import train_test_split as split\n",
        "from sklearn.model_selection import GridSearchCV\n",
        "from sklearn.tree import DecisionTreeClassifier\n",
        "from sklearn.neighbors import KNeighborsClassifier\n",
        "from sklearn.svm import SVC\n",
        "from sklearn.linear_model import LinearRegression\n",
        "from sklearn.linear_model import LogisticRegression\n",
        "\n",
        "from sklearn.ensemble import RandomForestClassifier\n",
        "from sklearn.ensemble import BaggingClassifier\n",
        "from sklearn.ensemble import AdaBoostClassifier\n",
        "from sklearn.naive_bayes import GaussianNB\n",
        "from sklearn import metrics\n",
        "from sklearn.metrics import accuracy_score, confusion_matrix\n",
        "from sklearn.metrics import classification_report\n"
      ]
    },
    {
      "cell_type": "code",
      "execution_count": null,
      "metadata": {
        "colab": {
          "base_uri": "https://localhost:8080/",
          "height": 206
        },
        "id": "iLrX21tANrZ8",
        "outputId": "47724a7e-51c7-45cd-b937-5e4b7dc38834"
      },
      "outputs": [
        {
          "output_type": "execute_result",
          "data": {
            "text/plain": [
              "   Age  SystolicBP  DiastolicBP    BS  BodyTemp  HeartRate  RiskLevel\n",
              "0   25         130           80  15.0      98.0         86  high risk\n",
              "1   35         140           90  13.0      98.0         70  high risk\n",
              "2   29          90           70   8.0     100.0         80  high risk\n",
              "3   30         140           85   7.0      98.0         70  high risk\n",
              "4   35         120           60   6.1      98.0         76   low risk"
            ],
            "text/html": [
              "\n",
              "  <div id=\"df-7ca04753-5aac-45af-beb5-410022430973\">\n",
              "    <div class=\"colab-df-container\">\n",
              "      <div>\n",
              "<style scoped>\n",
              "    .dataframe tbody tr th:only-of-type {\n",
              "        vertical-align: middle;\n",
              "    }\n",
              "\n",
              "    .dataframe tbody tr th {\n",
              "        vertical-align: top;\n",
              "    }\n",
              "\n",
              "    .dataframe thead th {\n",
              "        text-align: right;\n",
              "    }\n",
              "</style>\n",
              "<table border=\"1\" class=\"dataframe\">\n",
              "  <thead>\n",
              "    <tr style=\"text-align: right;\">\n",
              "      <th></th>\n",
              "      <th>Age</th>\n",
              "      <th>SystolicBP</th>\n",
              "      <th>DiastolicBP</th>\n",
              "      <th>BS</th>\n",
              "      <th>BodyTemp</th>\n",
              "      <th>HeartRate</th>\n",
              "      <th>RiskLevel</th>\n",
              "    </tr>\n",
              "  </thead>\n",
              "  <tbody>\n",
              "    <tr>\n",
              "      <th>0</th>\n",
              "      <td>25</td>\n",
              "      <td>130</td>\n",
              "      <td>80</td>\n",
              "      <td>15.0</td>\n",
              "      <td>98.0</td>\n",
              "      <td>86</td>\n",
              "      <td>high risk</td>\n",
              "    </tr>\n",
              "    <tr>\n",
              "      <th>1</th>\n",
              "      <td>35</td>\n",
              "      <td>140</td>\n",
              "      <td>90</td>\n",
              "      <td>13.0</td>\n",
              "      <td>98.0</td>\n",
              "      <td>70</td>\n",
              "      <td>high risk</td>\n",
              "    </tr>\n",
              "    <tr>\n",
              "      <th>2</th>\n",
              "      <td>29</td>\n",
              "      <td>90</td>\n",
              "      <td>70</td>\n",
              "      <td>8.0</td>\n",
              "      <td>100.0</td>\n",
              "      <td>80</td>\n",
              "      <td>high risk</td>\n",
              "    </tr>\n",
              "    <tr>\n",
              "      <th>3</th>\n",
              "      <td>30</td>\n",
              "      <td>140</td>\n",
              "      <td>85</td>\n",
              "      <td>7.0</td>\n",
              "      <td>98.0</td>\n",
              "      <td>70</td>\n",
              "      <td>high risk</td>\n",
              "    </tr>\n",
              "    <tr>\n",
              "      <th>4</th>\n",
              "      <td>35</td>\n",
              "      <td>120</td>\n",
              "      <td>60</td>\n",
              "      <td>6.1</td>\n",
              "      <td>98.0</td>\n",
              "      <td>76</td>\n",
              "      <td>low risk</td>\n",
              "    </tr>\n",
              "  </tbody>\n",
              "</table>\n",
              "</div>\n",
              "      <button class=\"colab-df-convert\" onclick=\"convertToInteractive('df-7ca04753-5aac-45af-beb5-410022430973')\"\n",
              "              title=\"Convert this dataframe to an interactive table.\"\n",
              "              style=\"display:none;\">\n",
              "        \n",
              "  <svg xmlns=\"http://www.w3.org/2000/svg\" height=\"24px\"viewBox=\"0 0 24 24\"\n",
              "       width=\"24px\">\n",
              "    <path d=\"M0 0h24v24H0V0z\" fill=\"none\"/>\n",
              "    <path d=\"M18.56 5.44l.94 2.06.94-2.06 2.06-.94-2.06-.94-.94-2.06-.94 2.06-2.06.94zm-11 1L8.5 8.5l.94-2.06 2.06-.94-2.06-.94L8.5 2.5l-.94 2.06-2.06.94zm10 10l.94 2.06.94-2.06 2.06-.94-2.06-.94-.94-2.06-.94 2.06-2.06.94z\"/><path d=\"M17.41 7.96l-1.37-1.37c-.4-.4-.92-.59-1.43-.59-.52 0-1.04.2-1.43.59L10.3 9.45l-7.72 7.72c-.78.78-.78 2.05 0 2.83L4 21.41c.39.39.9.59 1.41.59.51 0 1.02-.2 1.41-.59l7.78-7.78 2.81-2.81c.8-.78.8-2.07 0-2.86zM5.41 20L4 18.59l7.72-7.72 1.47 1.35L5.41 20z\"/>\n",
              "  </svg>\n",
              "      </button>\n",
              "      \n",
              "  <style>\n",
              "    .colab-df-container {\n",
              "      display:flex;\n",
              "      flex-wrap:wrap;\n",
              "      gap: 12px;\n",
              "    }\n",
              "\n",
              "    .colab-df-convert {\n",
              "      background-color: #E8F0FE;\n",
              "      border: none;\n",
              "      border-radius: 50%;\n",
              "      cursor: pointer;\n",
              "      display: none;\n",
              "      fill: #1967D2;\n",
              "      height: 32px;\n",
              "      padding: 0 0 0 0;\n",
              "      width: 32px;\n",
              "    }\n",
              "\n",
              "    .colab-df-convert:hover {\n",
              "      background-color: #E2EBFA;\n",
              "      box-shadow: 0px 1px 2px rgba(60, 64, 67, 0.3), 0px 1px 3px 1px rgba(60, 64, 67, 0.15);\n",
              "      fill: #174EA6;\n",
              "    }\n",
              "\n",
              "    [theme=dark] .colab-df-convert {\n",
              "      background-color: #3B4455;\n",
              "      fill: #D2E3FC;\n",
              "    }\n",
              "\n",
              "    [theme=dark] .colab-df-convert:hover {\n",
              "      background-color: #434B5C;\n",
              "      box-shadow: 0px 1px 3px 1px rgba(0, 0, 0, 0.15);\n",
              "      filter: drop-shadow(0px 1px 2px rgba(0, 0, 0, 0.3));\n",
              "      fill: #FFFFFF;\n",
              "    }\n",
              "  </style>\n",
              "\n",
              "      <script>\n",
              "        const buttonEl =\n",
              "          document.querySelector('#df-7ca04753-5aac-45af-beb5-410022430973 button.colab-df-convert');\n",
              "        buttonEl.style.display =\n",
              "          google.colab.kernel.accessAllowed ? 'block' : 'none';\n",
              "\n",
              "        async function convertToInteractive(key) {\n",
              "          const element = document.querySelector('#df-7ca04753-5aac-45af-beb5-410022430973');\n",
              "          const dataTable =\n",
              "            await google.colab.kernel.invokeFunction('convertToInteractive',\n",
              "                                                     [key], {});\n",
              "          if (!dataTable) return;\n",
              "\n",
              "          const docLinkHtml = 'Like what you see? Visit the ' +\n",
              "            '<a target=\"_blank\" href=https://colab.research.google.com/notebooks/data_table.ipynb>data table notebook</a>'\n",
              "            + ' to learn more about interactive tables.';\n",
              "          element.innerHTML = '';\n",
              "          dataTable['output_type'] = 'display_data';\n",
              "          await google.colab.output.renderOutput(dataTable, element);\n",
              "          const docLink = document.createElement('div');\n",
              "          docLink.innerHTML = docLinkHtml;\n",
              "          element.appendChild(docLink);\n",
              "        }\n",
              "      </script>\n",
              "    </div>\n",
              "  </div>\n",
              "  "
            ]
          },
          "metadata": {},
          "execution_count": 31
        }
      ],
      "source": [
        "data=pd.read_csv(\"Maternal Health Risk Data Set.csv\")\n",
        "data.head()"
      ]
    },
    {
      "cell_type": "markdown",
      "metadata": {
        "id": "TNDXHy0lOMJc"
      },
      "source": [
        "data preprocessing"
      ]
    },
    {
      "cell_type": "code",
      "execution_count": null,
      "metadata": {
        "colab": {
          "base_uri": "https://localhost:8080/"
        },
        "id": "BPQkzEQ4OARj",
        "outputId": "8569f649-a2ad-4835-9214-13b1667405cf"
      },
      "outputs": [
        {
          "output_type": "execute_result",
          "data": {
            "text/plain": [
              "(1014, 7)"
            ]
          },
          "metadata": {},
          "execution_count": 32
        }
      ],
      "source": [
        "data.shape"
      ]
    },
    {
      "cell_type": "code",
      "execution_count": null,
      "metadata": {
        "colab": {
          "base_uri": "https://localhost:8080/"
        },
        "id": "0-8hfdX9O3fo",
        "outputId": "fc665bd5-a8be-41d1-c348-d5a262f5fe92"
      },
      "outputs": [
        {
          "output_type": "stream",
          "name": "stdout",
          "text": [
            "<class 'pandas.core.frame.DataFrame'>\n",
            "RangeIndex: 1014 entries, 0 to 1013\n",
            "Data columns (total 7 columns):\n",
            " #   Column       Non-Null Count  Dtype  \n",
            "---  ------       --------------  -----  \n",
            " 0   Age          1014 non-null   int64  \n",
            " 1   SystolicBP   1014 non-null   int64  \n",
            " 2   DiastolicBP  1014 non-null   int64  \n",
            " 3   BS           1014 non-null   float64\n",
            " 4   BodyTemp     1014 non-null   float64\n",
            " 5   HeartRate    1014 non-null   int64  \n",
            " 6   RiskLevel    1014 non-null   object \n",
            "dtypes: float64(2), int64(4), object(1)\n",
            "memory usage: 55.6+ KB\n"
          ]
        }
      ],
      "source": [
        "data.info()"
      ]
    },
    {
      "cell_type": "code",
      "execution_count": null,
      "metadata": {
        "colab": {
          "base_uri": "https://localhost:8080/"
        },
        "id": "vKSZiAcFO5vf",
        "outputId": "85cede1e-4c72-4618-b6af-175b2e10e67d"
      },
      "outputs": [
        {
          "output_type": "execute_result",
          "data": {
            "text/plain": [
              "Age            0\n",
              "SystolicBP     0\n",
              "DiastolicBP    0\n",
              "BS             0\n",
              "BodyTemp       0\n",
              "HeartRate      0\n",
              "RiskLevel      0\n",
              "dtype: int64"
            ]
          },
          "metadata": {},
          "execution_count": 34
        }
      ],
      "source": [
        "data.isnull().sum()"
      ]
    },
    {
      "cell_type": "code",
      "execution_count": null,
      "metadata": {
        "id": "a8TFZ27AknPF"
      },
      "outputs": [],
      "source": [
        "data=data.drop(data.index[data.HeartRate==7])"
      ]
    },
    {
      "cell_type": "markdown",
      "source": [],
      "metadata": {
        "id": "mdAcrn100hjN"
      }
    },
    {
      "cell_type": "code",
      "execution_count": null,
      "metadata": {
        "id": "OTvLzXf6kOvH"
      },
      "outputs": [],
      "source": [
        "X=data.drop(\"RiskLevel\", axis=1)\n",
        "\n",
        "y=data.RiskLevel\n",
        "\n",
        "x_train, x_test, y_train, y_test=split(X, y, test_size=0.2, random_state=1)"
      ]
    },
    {
      "cell_type": "markdown",
      "metadata": {
        "id": "xrRrllH3l7B5"
      },
      "source": [
        "descriptive analysis"
      ]
    },
    {
      "cell_type": "code",
      "execution_count": null,
      "metadata": {
        "colab": {
          "base_uri": "https://localhost:8080/"
        },
        "id": "fKdUttLgmEz8",
        "outputId": "b1248544-4dfc-43f6-bf08-52c4cb60817f"
      },
      "outputs": [
        {
          "output_type": "stream",
          "name": "stdout",
          "text": [
            "<class 'pandas.core.frame.DataFrame'>\n",
            "Int64Index: 1012 entries, 0 to 1013\n",
            "Data columns (total 7 columns):\n",
            " #   Column       Non-Null Count  Dtype  \n",
            "---  ------       --------------  -----  \n",
            " 0   Age          1012 non-null   int64  \n",
            " 1   SystolicBP   1012 non-null   int64  \n",
            " 2   DiastolicBP  1012 non-null   int64  \n",
            " 3   BS           1012 non-null   float64\n",
            " 4   BodyTemp     1012 non-null   float64\n",
            " 5   HeartRate    1012 non-null   int64  \n",
            " 6   RiskLevel    1012 non-null   object \n",
            "dtypes: float64(2), int64(4), object(1)\n",
            "memory usage: 63.2+ KB\n"
          ]
        }
      ],
      "source": [
        "data.info()"
      ]
    },
    {
      "cell_type": "code",
      "execution_count": null,
      "metadata": {
        "colab": {
          "base_uri": "https://localhost:8080/",
          "height": 269
        },
        "id": "gAWf81HkmLEm",
        "outputId": "d046bb75-eae3-4593-ea4e-a88c1050c384"
      },
      "outputs": [
        {
          "output_type": "execute_result",
          "data": {
            "text/plain": [
              "              count unique       top freq        mean        std   min    25%  \\\n",
              "Age          1012.0    NaN       NaN  NaN   29.899209   13.47356  10.0   19.0   \n",
              "SystolicBP   1012.0    NaN       NaN  NaN  113.184783  18.419618  70.0  100.0   \n",
              "DiastolicBP  1012.0    NaN       NaN  NaN   76.463439  13.899372  49.0   65.0   \n",
              "BS           1012.0    NaN       NaN  NaN    8.727619   3.296583   6.0    6.9   \n",
              "BodyTemp     1012.0    NaN       NaN  NaN   98.666403   1.372421  98.0   98.0   \n",
              "HeartRate    1012.0    NaN       NaN  NaN   74.434783   7.521857  60.0   70.0   \n",
              "RiskLevel      1012      3  low risk  404         NaN        NaN   NaN    NaN   \n",
              "\n",
              "               50%    75%    max  \n",
              "Age           26.0   39.0   70.0  \n",
              "SystolicBP   120.0  120.0  160.0  \n",
              "DiastolicBP   80.0   90.0  100.0  \n",
              "BS             7.5    8.0   19.0  \n",
              "BodyTemp      98.0   98.0  103.0  \n",
              "HeartRate     76.0   80.0   90.0  \n",
              "RiskLevel      NaN    NaN    NaN  "
            ],
            "text/html": [
              "\n",
              "  <div id=\"df-95158140-7a86-4190-8deb-dda71ae322f3\">\n",
              "    <div class=\"colab-df-container\">\n",
              "      <div>\n",
              "<style scoped>\n",
              "    .dataframe tbody tr th:only-of-type {\n",
              "        vertical-align: middle;\n",
              "    }\n",
              "\n",
              "    .dataframe tbody tr th {\n",
              "        vertical-align: top;\n",
              "    }\n",
              "\n",
              "    .dataframe thead th {\n",
              "        text-align: right;\n",
              "    }\n",
              "</style>\n",
              "<table border=\"1\" class=\"dataframe\">\n",
              "  <thead>\n",
              "    <tr style=\"text-align: right;\">\n",
              "      <th></th>\n",
              "      <th>count</th>\n",
              "      <th>unique</th>\n",
              "      <th>top</th>\n",
              "      <th>freq</th>\n",
              "      <th>mean</th>\n",
              "      <th>std</th>\n",
              "      <th>min</th>\n",
              "      <th>25%</th>\n",
              "      <th>50%</th>\n",
              "      <th>75%</th>\n",
              "      <th>max</th>\n",
              "    </tr>\n",
              "  </thead>\n",
              "  <tbody>\n",
              "    <tr>\n",
              "      <th>Age</th>\n",
              "      <td>1012.0</td>\n",
              "      <td>NaN</td>\n",
              "      <td>NaN</td>\n",
              "      <td>NaN</td>\n",
              "      <td>29.899209</td>\n",
              "      <td>13.47356</td>\n",
              "      <td>10.0</td>\n",
              "      <td>19.0</td>\n",
              "      <td>26.0</td>\n",
              "      <td>39.0</td>\n",
              "      <td>70.0</td>\n",
              "    </tr>\n",
              "    <tr>\n",
              "      <th>SystolicBP</th>\n",
              "      <td>1012.0</td>\n",
              "      <td>NaN</td>\n",
              "      <td>NaN</td>\n",
              "      <td>NaN</td>\n",
              "      <td>113.184783</td>\n",
              "      <td>18.419618</td>\n",
              "      <td>70.0</td>\n",
              "      <td>100.0</td>\n",
              "      <td>120.0</td>\n",
              "      <td>120.0</td>\n",
              "      <td>160.0</td>\n",
              "    </tr>\n",
              "    <tr>\n",
              "      <th>DiastolicBP</th>\n",
              "      <td>1012.0</td>\n",
              "      <td>NaN</td>\n",
              "      <td>NaN</td>\n",
              "      <td>NaN</td>\n",
              "      <td>76.463439</td>\n",
              "      <td>13.899372</td>\n",
              "      <td>49.0</td>\n",
              "      <td>65.0</td>\n",
              "      <td>80.0</td>\n",
              "      <td>90.0</td>\n",
              "      <td>100.0</td>\n",
              "    </tr>\n",
              "    <tr>\n",
              "      <th>BS</th>\n",
              "      <td>1012.0</td>\n",
              "      <td>NaN</td>\n",
              "      <td>NaN</td>\n",
              "      <td>NaN</td>\n",
              "      <td>8.727619</td>\n",
              "      <td>3.296583</td>\n",
              "      <td>6.0</td>\n",
              "      <td>6.9</td>\n",
              "      <td>7.5</td>\n",
              "      <td>8.0</td>\n",
              "      <td>19.0</td>\n",
              "    </tr>\n",
              "    <tr>\n",
              "      <th>BodyTemp</th>\n",
              "      <td>1012.0</td>\n",
              "      <td>NaN</td>\n",
              "      <td>NaN</td>\n",
              "      <td>NaN</td>\n",
              "      <td>98.666403</td>\n",
              "      <td>1.372421</td>\n",
              "      <td>98.0</td>\n",
              "      <td>98.0</td>\n",
              "      <td>98.0</td>\n",
              "      <td>98.0</td>\n",
              "      <td>103.0</td>\n",
              "    </tr>\n",
              "    <tr>\n",
              "      <th>HeartRate</th>\n",
              "      <td>1012.0</td>\n",
              "      <td>NaN</td>\n",
              "      <td>NaN</td>\n",
              "      <td>NaN</td>\n",
              "      <td>74.434783</td>\n",
              "      <td>7.521857</td>\n",
              "      <td>60.0</td>\n",
              "      <td>70.0</td>\n",
              "      <td>76.0</td>\n",
              "      <td>80.0</td>\n",
              "      <td>90.0</td>\n",
              "    </tr>\n",
              "    <tr>\n",
              "      <th>RiskLevel</th>\n",
              "      <td>1012</td>\n",
              "      <td>3</td>\n",
              "      <td>low risk</td>\n",
              "      <td>404</td>\n",
              "      <td>NaN</td>\n",
              "      <td>NaN</td>\n",
              "      <td>NaN</td>\n",
              "      <td>NaN</td>\n",
              "      <td>NaN</td>\n",
              "      <td>NaN</td>\n",
              "      <td>NaN</td>\n",
              "    </tr>\n",
              "  </tbody>\n",
              "</table>\n",
              "</div>\n",
              "      <button class=\"colab-df-convert\" onclick=\"convertToInteractive('df-95158140-7a86-4190-8deb-dda71ae322f3')\"\n",
              "              title=\"Convert this dataframe to an interactive table.\"\n",
              "              style=\"display:none;\">\n",
              "        \n",
              "  <svg xmlns=\"http://www.w3.org/2000/svg\" height=\"24px\"viewBox=\"0 0 24 24\"\n",
              "       width=\"24px\">\n",
              "    <path d=\"M0 0h24v24H0V0z\" fill=\"none\"/>\n",
              "    <path d=\"M18.56 5.44l.94 2.06.94-2.06 2.06-.94-2.06-.94-.94-2.06-.94 2.06-2.06.94zm-11 1L8.5 8.5l.94-2.06 2.06-.94-2.06-.94L8.5 2.5l-.94 2.06-2.06.94zm10 10l.94 2.06.94-2.06 2.06-.94-2.06-.94-.94-2.06-.94 2.06-2.06.94z\"/><path d=\"M17.41 7.96l-1.37-1.37c-.4-.4-.92-.59-1.43-.59-.52 0-1.04.2-1.43.59L10.3 9.45l-7.72 7.72c-.78.78-.78 2.05 0 2.83L4 21.41c.39.39.9.59 1.41.59.51 0 1.02-.2 1.41-.59l7.78-7.78 2.81-2.81c.8-.78.8-2.07 0-2.86zM5.41 20L4 18.59l7.72-7.72 1.47 1.35L5.41 20z\"/>\n",
              "  </svg>\n",
              "      </button>\n",
              "      \n",
              "  <style>\n",
              "    .colab-df-container {\n",
              "      display:flex;\n",
              "      flex-wrap:wrap;\n",
              "      gap: 12px;\n",
              "    }\n",
              "\n",
              "    .colab-df-convert {\n",
              "      background-color: #E8F0FE;\n",
              "      border: none;\n",
              "      border-radius: 50%;\n",
              "      cursor: pointer;\n",
              "      display: none;\n",
              "      fill: #1967D2;\n",
              "      height: 32px;\n",
              "      padding: 0 0 0 0;\n",
              "      width: 32px;\n",
              "    }\n",
              "\n",
              "    .colab-df-convert:hover {\n",
              "      background-color: #E2EBFA;\n",
              "      box-shadow: 0px 1px 2px rgba(60, 64, 67, 0.3), 0px 1px 3px 1px rgba(60, 64, 67, 0.15);\n",
              "      fill: #174EA6;\n",
              "    }\n",
              "\n",
              "    [theme=dark] .colab-df-convert {\n",
              "      background-color: #3B4455;\n",
              "      fill: #D2E3FC;\n",
              "    }\n",
              "\n",
              "    [theme=dark] .colab-df-convert:hover {\n",
              "      background-color: #434B5C;\n",
              "      box-shadow: 0px 1px 3px 1px rgba(0, 0, 0, 0.15);\n",
              "      filter: drop-shadow(0px 1px 2px rgba(0, 0, 0, 0.3));\n",
              "      fill: #FFFFFF;\n",
              "    }\n",
              "  </style>\n",
              "\n",
              "      <script>\n",
              "        const buttonEl =\n",
              "          document.querySelector('#df-95158140-7a86-4190-8deb-dda71ae322f3 button.colab-df-convert');\n",
              "        buttonEl.style.display =\n",
              "          google.colab.kernel.accessAllowed ? 'block' : 'none';\n",
              "\n",
              "        async function convertToInteractive(key) {\n",
              "          const element = document.querySelector('#df-95158140-7a86-4190-8deb-dda71ae322f3');\n",
              "          const dataTable =\n",
              "            await google.colab.kernel.invokeFunction('convertToInteractive',\n",
              "                                                     [key], {});\n",
              "          if (!dataTable) return;\n",
              "\n",
              "          const docLinkHtml = 'Like what you see? Visit the ' +\n",
              "            '<a target=\"_blank\" href=https://colab.research.google.com/notebooks/data_table.ipynb>data table notebook</a>'\n",
              "            + ' to learn more about interactive tables.';\n",
              "          element.innerHTML = '';\n",
              "          dataTable['output_type'] = 'display_data';\n",
              "          await google.colab.output.renderOutput(dataTable, element);\n",
              "          const docLink = document.createElement('div');\n",
              "          docLink.innerHTML = docLinkHtml;\n",
              "          element.appendChild(docLink);\n",
              "        }\n",
              "      </script>\n",
              "    </div>\n",
              "  </div>\n",
              "  "
            ]
          },
          "metadata": {},
          "execution_count": 38
        }
      ],
      "source": [
        "data.describe(include='all').T"
      ]
    },
    {
      "cell_type": "markdown",
      "metadata": {
        "id": "BAZfJK7VofGj"
      },
      "source": [
        "VISUAL ANALYTICS\n",
        "univariate analysis\n"
      ]
    },
    {
      "cell_type": "code",
      "execution_count": null,
      "metadata": {
        "id": "rQUdLPQpkOo7"
      },
      "outputs": [],
      "source": [
        "def num_plot(data, col):\n",
        "  fig, ax = plt.subplots(1, 2, figsize=(10, 6))\n",
        "  sns.histplot(data=data, x=col, kde=True, ax=ax[0])\n",
        "  sns.boxplot(data=data, x=col, ax=ax[1])\n",
        "  ax[0].set_title(f\"{col} Distribution Histogram\")\n",
        "  ax[1].set_title(f\"{col} Distribution boxplot\")\n",
        "  plt.show()"
      ]
    },
    {
      "cell_type": "code",
      "execution_count": null,
      "metadata": {
        "colab": {
          "base_uri": "https://localhost:8080/",
          "height": 564
        },
        "id": "lDqyoq-iTctO",
        "outputId": "cb2c6681-86c3-48cb-ebe4-ef086ce9c309"
      },
      "outputs": [
        {
          "output_type": "display_data",
          "data": {
            "text/plain": [
              "<Figure size 1000x600 with 2 Axes>"
            ],
            "image/png": "[encoded data removed]"
          },
          "metadata": {}
        }
      ],
      "source": [
        "num_plot(data,\"Age\")"
      ]
    },
    {
      "cell_type": "markdown",
      "metadata": {
        "id": "0sYd0mAvpEVn"
      },
      "source": [
        "bivariant\n"
      ]
    },
    {
      "cell_type": "code",
      "execution_count": null,
      "metadata": {
        "id": "VseYTqaKpLE-",
        "colab": {
          "base_uri": "https://localhost:8080/",
          "height": 564
        },
        "outputId": "a2e6fe62-cb49-4e12-9137-0c390e8e849c"
      },
      "outputs": [
        {
          "output_type": "display_data",
          "data": {
            "text/plain": [
              "<Figure size 1000x600 with 2 Axes>"
            ],
            "image/png": "[encoded data removed]"
          },
          "metadata": {}
        }
      ],
      "source": [
        "num_plot(data,'HeartRate')"
      ]
    },
    {
      "cell_type": "markdown",
      "metadata": {
        "id": "Bt181hwfqWbK"
      },
      "source": [
        "multivarient"
      ]
    },
    {
      "cell_type": "code",
      "execution_count": null,
      "metadata": {
        "id": "FbFb2tM9qa7D",
        "colab": {
          "base_uri": "https://localhost:8080/",
          "height": 449
        },
        "outputId": "cfd728b4-204a-4c18-f5da-81f802500a7b"
      },
      "outputs": [
        {
          "output_type": "display_data",
          "data": {
            "text/plain": [
              "<Figure size 640x480 with 1 Axes>"
            ],
            "image/png": "[encoded data removed]"
          },
          "metadata": {}
        }
      ],
      "source": [
        "sns.scatterplot(x='RiskLevel',y='Age',  data=data,palette='bright',hue='HeartRate');"
      ]
    },
    {
      "cell_type": "markdown",
      "metadata": {
        "id": "BcIW-mvbWGtJ"
      },
      "source": [
        "Training The Model In Multiple Algorithms"
      ]
    },
    {
      "cell_type": "markdown",
      "metadata": {
        "id": "RlB43ZwsqVVx"
      },
      "source": []
    },
    {
      "cell_type": "code",
      "execution_count": null,
      "metadata": {
        "id": "vUnrQhxVWHCx",
        "colab": {
          "base_uri": "https://localhost:8080/"
        },
        "outputId": "a44dfaf3-fc80-4fd5-90d5-3d60aa1ed433"
      },
      "outputs": [
        {
          "output_type": "stream",
          "name": "stdout",
          "text": [
            "accuracy of DecisionTreeClassifier\n",
            "Training accuracy:0.9247842170160296 \n",
            "Testing accuracy: 0.8669950738916257\n"
          ]
        }
      ],
      "source": [
        "#Decision tree model\n",
        "dt = DecisionTreeClassifier()\n",
        "dt.fit(x_train,y_train)\n",
        "dt_train_pred=dt.predict(x_train)\n",
        "dt_test_pred=dt.predict(x_test)\n",
        "train_acc=accuracy_score (y_train,dt_train_pred)\n",
        "test_acc=accuracy_score (y_test, dt_test_pred)\n",
        "print(\"accuracy of DecisionTreeClassifier\")\n",
        "print(\"Training accuracy:{} \".format(train_acc))\n",
        "print(\"Testing accuracy: {}\".format (test_acc))\n"
      ]
    },
    {
      "cell_type": "code",
      "execution_count": null,
      "metadata": {
        "id": "RmXic2aVTcwD",
        "colab": {
          "base_uri": "https://localhost:8080/"
        },
        "outputId": "18b2f277-4a91-4b2d-ecdd-f3e074c6b22f"
      },
      "outputs": [
        {
          "output_type": "stream",
          "name": "stdout",
          "text": [
            "accuracy of KNeighborsClassifier\n",
            "Training accuracy: 0.7854500616522812\n",
            "Testing accuracy:0.6995073891625616\n"
          ]
        }
      ],
      "source": [
        "#KNN model\n",
        "knn =KNeighborsClassifier()\n",
        "knn.fit(x_train,y_train)\n",
        "knn_train_pred=knn.predict(x_train)\n",
        "knn_test_pred=knn.predict(x_test)\n",
        "train_acc=accuracy_score (y_train, knn_train_pred)\n",
        "test_acc=accuracy_score (y_test, knn_test_pred)\n",
        "print(\"accuracy of KNeighborsClassifier\")\n",
        "print(\"Training accuracy: {}\".format (train_acc))\n",
        "print(\"Testing accuracy:{}\".format(test_acc))"
      ]
    },
    {
      "cell_type": "code",
      "execution_count": null,
      "metadata": {
        "id": "fDKIyJpKTcyc",
        "colab": {
          "base_uri": "https://localhost:8080/"
        },
        "outputId": "8bc70e88-37f6-4d91-ef90-03a7bee2319e"
      },
      "outputs": [
        {
          "output_type": "stream",
          "name": "stdout",
          "text": [
            "accuracy of SVC\n",
            "Training accuracy: 0.6029593094944513\n",
            "Testing accuracy: 0.6108374384236454\n"
          ]
        }
      ],
      "source": [
        "#SVC model\n",
        "svm =SVC()\n",
        "svm.fit(x_train,y_train)\n",
        "svm_train_pred = svm.predict(x_train)\n",
        "svm_test_pred = svm.predict(x_test)\n",
        "train_acc = accuracy_score (y_train, svm_train_pred)\n",
        "test_acc = accuracy_score (y_test, svm_test_pred)\n",
        "print(\"accuracy of SVC\")\n",
        "print(\"Training accuracy: {}\".format(train_acc))\n",
        "print(\"Testing accuracy: {}\".format(test_acc))\n"
      ]
    },
    {
      "cell_type": "code",
      "execution_count": null,
      "metadata": {
        "id": "UhZ968h2Tc1R",
        "colab": {
          "base_uri": "https://localhost:8080/"
        },
        "outputId": "bc48c77a-f1d0-481f-8475-f4161b6d96f7"
      },
      "outputs": [
        {
          "output_type": "stream",
          "name": "stdout",
          "text": [
            "accuracy of RandomForestClassifier\n",
            "Training accuracy: 0.9247842170160296\n",
            "Testing accuracy: 0.8522167487684729\n"
          ]
        }
      ],
      "source": [
        "#Random forest model\n",
        "rf = RandomForestClassifier()\n",
        "rf.fit(x_train,y_train)\n",
        "rf_train_pred = rf.predict(x_train)\n",
        "rf_test_pred = rf.predict(x_test)\n",
        "train_acc = accuracy_score(y_train, rf_train_pred)\n",
        "test_acc = accuracy_score(y_test, rf_test_pred)\n",
        "print(\"accuracy of RandomForestClassifier\")\n",
        "print(\"Training accuracy: {}\".format (train_acc))\n",
        "print(\"Testing accuracy: {}\".format(test_acc))"
      ]
    },
    {
      "cell_type": "code",
      "execution_count": null,
      "metadata": {
        "id": "IR6NU011Tc4a",
        "colab": {
          "base_uri": "https://localhost:8080/"
        },
        "outputId": "2ec18795-2daf-4a76-90a8-78260d8af2e6"
      },
      "outputs": [
        {
          "output_type": "stream",
          "name": "stdout",
          "text": [
            "accuracy of LogisticRegression\n",
            "Training accuracy :0.5782983970406905\n",
            "Testing accuracy : 0.5763546798029556\n"
          ]
        }
      ],
      "source": [
        "#LogisticRegression\n",
        "lr = LogisticRegression()\n",
        "lr.fit(x_train,y_train)\n",
        "lr_train_pred=lr.predict(x_train)\n",
        "lr_test_pred = lr.predict(x_test)\n",
        "train_acc =accuracy_score (y_train, lr_train_pred)\n",
        "test_acc =accuracy_score(y_test,lr_test_pred)\n",
        "print(\"accuracy of LogisticRegression\")\n",
        "print(\"Training accuracy :{}\".format(train_acc))\n",
        "print(\"Testing accuracy : {}\". format (test_acc))"
      ]
    },
    {
      "cell_type": "code",
      "execution_count": null,
      "metadata": {
        "id": "b99KNrEpTc7a",
        "colab": {
          "base_uri": "https://localhost:8080/"
        },
        "outputId": "d7363a47-4076-4f2e-c4e1-8cec45a68a51"
      },
      "outputs": [
        {
          "output_type": "stream",
          "name": "stdout",
          "text": [
            "accuracy of BaggingClassifier\n",
            "Training accuracy: 0.9198520345252774\n",
            "Testing accuracy: 0.8522167487684729\n"
          ]
        }
      ],
      "source": [
        "#BaggingClassifier\n",
        "bc= BaggingClassifier()\n",
        "bc.fit(x_train,y_train)\n",
        "bc_train_pred = bc.predict(x_train)\n",
        "bc_test_pred = bc.predict(x_test)\n",
        "train_acc = accuracy_score (y_train,bc_train_pred)\n",
        "test_acc =accuracy_score (y_test, bc_test_pred)\n",
        "print(\"accuracy of BaggingClassifier\")\n",
        "print(\"Training accuracy: {}\".format(train_acc))\n",
        "print(\"Testing accuracy: {}\". format(test_acc))"
      ]
    },
    {
      "cell_type": "code",
      "execution_count": null,
      "metadata": {
        "id": "SIuSqR37Tc-N",
        "colab": {
          "base_uri": "https://localhost:8080/"
        },
        "outputId": "292fd578-82bd-40df-d07c-05353d02e55d"
      },
      "outputs": [
        {
          "output_type": "stream",
          "name": "stdout",
          "text": [
            "accuracy of AdaBoostClassifier\n",
            "Training accuracy: 0.689272503082614\n",
            "Testing accuracy: 0.6748768472906403\n"
          ]
        }
      ],
      "source": [
        "#AdaBoostClassifier\n",
        "abc = AdaBoostClassifier()\n",
        "abc.fit(x_train,y_train)\n",
        "abc_train_pred = abc.predict(x_train)\n",
        "abc_test_pred = abc.predict(x_test)\n",
        "train_acc = accuracy_score (y_train, abc_train_pred)\n",
        "test_acc = accuracy_score (y_test, abc_test_pred)\n",
        "print(\"accuracy of AdaBoostClassifier\")\n",
        "print(\"Training accuracy: {}\".format(train_acc))\n",
        "print(\"Testing accuracy: {}\" . format(test_acc))"
      ]
    },
    {
      "cell_type": "code",
      "execution_count": null,
      "metadata": {
        "id": "-oUBAiJJTdBc",
        "colab": {
          "base_uri": "https://localhost:8080/"
        },
        "outputId": "8a1a7d08-f472-4688-f98f-cd1747ce9f53"
      },
      "outputs": [
        {
          "output_type": "stream",
          "name": "stdout",
          "text": [
            "accuracy of GaussianNB\n",
            "Training accuracy: 0.6128236744759556\n",
            "Testing accuracy:0.5763546798029556\n"
          ]
        }
      ],
      "source": [
        "#Naive Bayes\n",
        "gnb=GaussianNB ()\n",
        "gnb.fit(x_train, y_train)\n",
        "gnb_train_pred=gnb.predict(x_train)\n",
        "gnb_test_pred=gnb.predict(x_test)\n",
        "train_acc = accuracy_score (y_train,gnb_train_pred)\n",
        "test_acc = accuracy_score (y_test, gnb_test_pred)\n",
        "print(\"accuracy of GaussianNB\")\n",
        "print(\"Training accuracy: {}\".format(train_acc))\n",
        "print(\"Testing accuracy:{}\".format (test_acc))"
      ]
    },
    {
      "cell_type": "markdown",
      "metadata": {
        "id": "xFgU-Km902fZ"
      },
      "source": [
        "Testing Model With Multiple Evaluation Metrics"
      ]
    },
    {
      "cell_type": "code",
      "execution_count": null,
      "metadata": {
        "id": "wMpePAQAz_zE",
        "colab": {
          "base_uri": "https://localhost:8080/"
        },
        "outputId": "3f5d1118-d132-4345-ad38-f5b0e886faaf"
      },
      "outputs": [
        {
          "output_type": "stream",
          "name": "stdout",
          "text": [
            "              precision    recall  f1-score   support\n",
            "\n",
            "   high risk       0.84      0.59      0.70        64\n",
            "    low risk       0.59      0.72      0.65        79\n",
            "    mid risk       0.39      0.40      0.39        60\n",
            "\n",
            "    accuracy                           0.59       203\n",
            "   macro avg       0.61      0.57      0.58       203\n",
            "weighted avg       0.61      0.59      0.59       203\n",
            "\n"
          ]
        },
        {
          "output_type": "execute_result",
          "data": {
            "text/plain": [
              "array([[38,  9, 17],\n",
              "       [ 1, 57, 21],\n",
              "       [ 6, 30, 24]])"
            ]
          },
          "metadata": {},
          "execution_count": 51
        }
      ],
      "source": [
        "print(classification_report(y_test, lr_test_pred))\n",
        "confusion_matrix(y_test, lr_test_pred)"
      ]
    },
    {
      "cell_type": "code",
      "execution_count": null,
      "metadata": {
        "id": "-NMUhP5R01K3",
        "colab": {
          "base_uri": "https://localhost:8080/"
        },
        "outputId": "4b2ad74e-12ac-4a0d-ac25-42cb98a961ce"
      },
      "outputs": [
        {
          "output_type": "stream",
          "name": "stdout",
          "text": [
            "              precision    recall  f1-score   support\n",
            "\n",
            "   high risk       0.88      0.83      0.85        64\n",
            "    low risk       0.72      0.80      0.76        79\n",
            "    mid risk       0.66      0.62      0.64        60\n",
            "\n",
            "    accuracy                           0.75       203\n",
            "   macro avg       0.76      0.75      0.75       203\n",
            "weighted avg       0.76      0.75      0.75       203\n",
            "\n"
          ]
        },
        {
          "output_type": "execute_result",
          "data": {
            "text/plain": [
              "array([[53,  5,  6],\n",
              "       [ 3, 63, 13],\n",
              "       [ 4, 19, 37]])"
            ]
          },
          "metadata": {},
          "execution_count": 52
        }
      ],
      "source": [
        "print(classification_report (y_test, knn_test_pred))\n",
        "confusion_matrix(y_test, knn_test_pred)"
      ]
    },
    {
      "cell_type": "code",
      "execution_count": null,
      "metadata": {
        "id": "4_spkeFg01NV",
        "colab": {
          "base_uri": "https://localhost:8080/"
        },
        "outputId": "b063fbb9-198b-494a-99c3-568b6181a388"
      },
      "outputs": [
        {
          "output_type": "stream",
          "name": "stdout",
          "text": [
            "              precision    recall  f1-score   support\n",
            "\n",
            "   high risk       0.95      0.94      0.94        64\n",
            "    low risk       0.88      0.86      0.87        79\n",
            "    mid risk       0.79      0.83      0.81        60\n",
            "\n",
            "    accuracy                           0.88       203\n",
            "   macro avg       0.88      0.88      0.88       203\n",
            "weighted avg       0.88      0.88      0.88       203\n",
            "\n"
          ]
        },
        {
          "output_type": "execute_result",
          "data": {
            "text/plain": [
              "array([[60,  1,  3],\n",
              "       [ 1, 68, 10],\n",
              "       [ 2,  8, 50]])"
            ]
          },
          "metadata": {},
          "execution_count": 53
        }
      ],
      "source": [
        "print(classification_report (y_test, rf_test_pred))\n",
        "confusion_matrix(y_test, rf_test_pred)"
      ]
    },
    {
      "cell_type": "code",
      "execution_count": null,
      "metadata": {
        "id": "BTvor8Ee01QG",
        "colab": {
          "base_uri": "https://localhost:8080/"
        },
        "outputId": "a45be158-747f-45fa-d725-dab9e772c99f"
      },
      "outputs": [
        {
          "output_type": "stream",
          "name": "stdout",
          "text": [
            "              precision    recall  f1-score   support\n",
            "\n",
            "   high risk       0.89      0.52      0.65        64\n",
            "    low risk       0.56      0.86      0.68        79\n",
            "    mid risk       0.47      0.35      0.40        60\n",
            "\n",
            "    accuracy                           0.60       203\n",
            "   macro avg       0.64      0.58      0.58       203\n",
            "weighted avg       0.64      0.60      0.59       203\n",
            "\n"
          ]
        },
        {
          "output_type": "execute_result",
          "data": {
            "text/plain": [
              "array([[33, 18, 13],\n",
              "       [ 0, 68, 11],\n",
              "       [ 4, 35, 21]])"
            ]
          },
          "metadata": {},
          "execution_count": 54
        }
      ],
      "source": [
        "print(classification_report (y_test, svm_test_pred))\n",
        "confusion_matrix (y_test, svm_test_pred)"
      ]
    },
    {
      "cell_type": "code",
      "execution_count": null,
      "metadata": {
        "id": "PhEhteQI01S6",
        "colab": {
          "base_uri": "https://localhost:8080/"
        },
        "outputId": "2fb95a22-8609-452d-b303-e0a03b4869b9"
      },
      "outputs": [
        {
          "output_type": "stream",
          "name": "stdout",
          "text": [
            "              precision    recall  f1-score   support\n",
            "\n",
            "   high risk       0.85      0.62      0.72        64\n",
            "    low risk       0.56      0.94      0.70        79\n",
            "    mid risk       0.35      0.13      0.19        60\n",
            "\n",
            "    accuracy                           0.60       203\n",
            "   macro avg       0.59      0.57      0.54       203\n",
            "weighted avg       0.59      0.60      0.56       203\n",
            "\n"
          ]
        },
        {
          "output_type": "execute_result",
          "data": {
            "text/plain": [
              "array([[40, 13, 11],\n",
              "       [ 1, 74,  4],\n",
              "       [ 6, 46,  8]])"
            ]
          },
          "metadata": {},
          "execution_count": 55
        }
      ],
      "source": [
        "print(classification_report (y_test, gnb_test_pred))\n",
        "confusion_matrix(y_test, gnb_test_pred)"
      ]
    },
    {
      "cell_type": "code",
      "execution_count": null,
      "metadata": {
        "id": "Z3wiQl0w01Vt",
        "colab": {
          "base_uri": "https://localhost:8080/"
        },
        "outputId": "880044f0-5706-476f-c92b-852e81a458b4"
      },
      "outputs": [
        {
          "output_type": "stream",
          "name": "stdout",
          "text": [
            "              precision    recall  f1-score   support\n",
            "\n",
            "   high risk       0.84      0.73      0.78        64\n",
            "    low risk       0.76      0.65      0.70        79\n",
            "    mid risk       0.50      0.67      0.57        60\n",
            "\n",
            "    accuracy                           0.68       203\n",
            "   macro avg       0.70      0.68      0.68       203\n",
            "weighted avg       0.71      0.68      0.69       203\n",
            "\n"
          ]
        },
        {
          "output_type": "execute_result",
          "data": {
            "text/plain": [
              "array([[47,  4, 13],\n",
              "       [ 1, 51, 27],\n",
              "       [ 8, 12, 40]])"
            ]
          },
          "metadata": {},
          "execution_count": 56
        }
      ],
      "source": [
        "print(classification_report (y_test, abc_test_pred))\n",
        "confusion_matrix(y_test, abc_test_pred)"
      ]
    },
    {
      "cell_type": "code",
      "execution_count": null,
      "metadata": {
        "id": "QRourzQ-01ZG",
        "colab": {
          "base_uri": "https://localhost:8080/"
        },
        "outputId": "4602cfa1-a86a-4447-aadb-d211aea33826"
      },
      "outputs": [
        {
          "output_type": "stream",
          "name": "stdout",
          "text": [
            "              precision    recall  f1-score   support\n",
            "\n",
            "   high risk       0.91      0.94      0.92        64\n",
            "    low risk       0.89      0.89      0.89        79\n",
            "    mid risk       0.83      0.80      0.81        60\n",
            "\n",
            "    accuracy                           0.88       203\n",
            "   macro avg       0.87      0.87      0.87       203\n",
            "weighted avg       0.88      0.88      0.88       203\n",
            "\n"
          ]
        },
        {
          "output_type": "execute_result",
          "data": {
            "text/plain": [
              "array([[60,  1,  3],\n",
              "       [ 2, 70,  7],\n",
              "       [ 4,  8, 48]])"
            ]
          },
          "metadata": {},
          "execution_count": 57
        }
      ],
      "source": [
        "print(classification_report (y_test, bc_test_pred))\n",
        "confusion_matrix(y_test, bc_test_pred)"
      ]
    },
    {
      "cell_type": "markdown",
      "metadata": {
        "id": "2MA5lt7E2Oaw"
      },
      "source": [
        "Comparing Model Accuracy Before & After Applying Hyperparameter Tuning"
      ]
    },
    {
      "cell_type": "code",
      "execution_count": null,
      "metadata": {
        "id": "dOevqwYi73nA"
      },
      "outputs": [],
      "source": [
        "#create param\n",
        "model_param = {\n",
        "  'DecisionTreeClassifier':{\n",
        "    'model' : DecisionTreeClassifier(),\n",
        "    'param':{\n",
        "        'criterion':['gini','entropy'],\n",
        "        'max_depth': [4,5,6,7,8,20,50]\n",
        "    }\n",
        "  },\n",
        "\n",
        "    'KNeighborsClassifier':{\n",
        "    'model' : KNeighborsClassifier(),\n",
        "    'param':{\n",
        "      'n_neighbors': [5,10,15,20,25]\n",
        "    }\n",
        "  },\n",
        "\n",
        "    'SVC':{\n",
        "    'model' :SVC(),\n",
        "    'param':{\n",
        "        'kernel': ['rbf', 'linear', 'sigmoid'],\n",
        "        'C': [0.1, 1, 10, 100]\n",
        "    }\n",
        "  },\n",
        "\n",
        "    'RandomForestClassifier':{\n",
        "    'model': RandomForestClassifier(),\n",
        "    'param':{\n",
        "        'n_estimators': [10,20,50, 100, 200, 500],\n",
        "        'max_features': ['auto', 'sqrt', 'log2'],\n",
        "        'max_depth': [4,5,6,7,8,20,30,50],\n",
        "        'criterion': ['gini', 'entropy']\n",
        "    }\n",
        "  },\n",
        "\n",
        "    'LogisticRegression':{\n",
        "    'model': LogisticRegression(),\n",
        "    'param':{\n",
        "        'C':np.logspace(-3,3,7),\n",
        "        'penalty':[\"11\",\"12\"]\n",
        "    }\n",
        "  },\n",
        "\n",
        "    'BaggingClassifier':{\n",
        "    'model' :  BaggingClassifier(),\n",
        "    'param':{\n",
        "        'n_estimators':[10,30,50,100,150,200],\n",
        "        'random_state': [1,3,5,7,9,15,50,100]\n",
        "    }\n",
        "  },\n",
        "\n",
        "    'AdaBoostClassifier':{\n",
        "    'model': AdaBoostClassifier(),\n",
        "    'param':{\n",
        "        'n_estimators': [10,30,50,100,150,200],\n",
        "        'random_state': [1,3,5,7,9,15,50,100]\n",
        "    }\n",
        "  }\n",
        "}\n"
      ]
    },
    {
      "cell_type": "code",
      "execution_count": null,
      "metadata": {
        "id": "Ri89OcLg738E"
      },
      "outputs": [],
      "source": [
        "pd.set_option('display.max_colwidth', -1)\n",
        "df_model_score = pd.DataFrame(scores, columns=['model', 'best_score', 'best_params'])\n",
        "df_model_score"
      ]
    },
    {
      "cell_type": "markdown",
      "metadata": {
        "id": "yQwW_lEOsFDZ"
      },
      "source": [
        "Selecting the Best Model and performing training and testing"
      ]
    },
    {
      "cell_type": "code",
      "execution_count": null,
      "metadata": {
        "id": "_7jH0WcG74Co",
        "colab": {
          "base_uri": "https://localhost:8080/",
          "height": 74
        },
        "outputId": "db04a875-abf4-4279-c6fa-6b192a22fe23"
      },
      "outputs": [
        {
          "output_type": "execute_result",
          "data": {
            "text/plain": [
              "RandomForestClassifier(max_depth=50, max_features='auto', n_estimators=20)"
            ],
            "text/html": [
              "<style>#sk-container-id-1 {color: black;background-color: white;}#sk-container-id-1 pre{padding: 0;}#sk-container-id-1 div.sk-toggleable {background-color: white;}#sk-container-id-1 label.sk-toggleable__label {cursor: pointer;display: block;width: 100%;margin-bottom: 0;padding: 0.3em;box-sizing: border-box;text-align: center;}#sk-container-id-1 label.sk-toggleable__label-arrow:before {content: \"▸\";float: left;margin-right: 0.25em;color: #696969;}#sk-container-id-1 label.sk-toggleable__label-arrow:hover:before {color: black;}#sk-container-id-1 div.sk-estimator:hover label.sk-toggleable__label-arrow:before {color: black;}#sk-container-id-1 div.sk-toggleable__content {max-height: 0;max-width: 0;overflow: hidden;text-align: left;background-color: #f0f8ff;}#sk-container-id-1 div.sk-toggleable__content pre {margin: 0.2em;color: black;border-radius: 0.25em;background-color: #f0f8ff;}#sk-container-id-1 input.sk-toggleable__control:checked~div.sk-toggleable__content {max-height: 200px;max-width: 100%;overflow: auto;}#sk-container-id-1 input.sk-toggleable__control:checked~label.sk-toggleable__label-arrow:before {content: \"▾\";}#sk-container-id-1 div.sk-estimator input.sk-toggleable__control:checked~label.sk-toggleable__label {background-color: #d4ebff;}#sk-container-id-1 div.sk-label input.sk-toggleable__control:checked~label.sk-toggleable__label {background-color: #d4ebff;}#sk-container-id-1 input.sk-hidden--visually {border: 0;clip: rect(1px 1px 1px 1px);clip: rect(1px, 1px, 1px, 1px);height: 1px;margin: -1px;overflow: hidden;padding: 0;position: absolute;width: 1px;}#sk-container-id-1 div.sk-estimator {font-family: monospace;background-color: #f0f8ff;border: 1px dotted black;border-radius: 0.25em;box-sizing: border-box;margin-bottom: 0.5em;}#sk-container-id-1 div.sk-estimator:hover {background-color: #d4ebff;}#sk-container-id-1 div.sk-parallel-item::after {content: \"\";width: 100%;border-bottom: 1px solid gray;flex-grow: 1;}#sk-container-id-1 div.sk-label:hover label.sk-toggleable__label {background-color: #d4ebff;}#sk-container-id-1 div.sk-serial::before {content: \"\";position: absolute;border-left: 1px solid gray;box-sizing: border-box;top: 0;bottom: 0;left: 50%;z-index: 0;}#sk-container-id-1 div.sk-serial {display: flex;flex-direction: column;align-items: center;background-color: white;padding-right: 0.2em;padding-left: 0.2em;position: relative;}#sk-container-id-1 div.sk-item {position: relative;z-index: 1;}#sk-container-id-1 div.sk-parallel {display: flex;align-items: stretch;justify-content: center;background-color: white;position: relative;}#sk-container-id-1 div.sk-item::before, #sk-container-id-1 div.sk-parallel-item::before {content: \"\";position: absolute;border-left: 1px solid gray;box-sizing: border-box;top: 0;bottom: 0;left: 50%;z-index: -1;}#sk-container-id-1 div.sk-parallel-item {display: flex;flex-direction: column;z-index: 1;position: relative;background-color: white;}#sk-container-id-1 div.sk-parallel-item:first-child::after {align-self: flex-end;width: 50%;}#sk-container-id-1 div.sk-parallel-item:last-child::after {align-self: flex-start;width: 50%;}#sk-container-id-1 div.sk-parallel-item:only-child::after {width: 0;}#sk-container-id-1 div.sk-dashed-wrapped {border: 1px dashed gray;margin: 0 0.4em 0.5em 0.4em;box-sizing: border-box;padding-bottom: 0.4em;background-color: white;}#sk-container-id-1 div.sk-label label {font-family: monospace;font-weight: bold;display: inline-block;line-height: 1.2em;}#sk-container-id-1 div.sk-label-container {text-align: center;}#sk-container-id-1 div.sk-container {/* jupyter's `normalize.less` sets `[hidden] { display: none; }` but bootstrap.min.css set `[hidden] { display: none !important; }` so we also need the `!important` here to be able to override the default hidden behavior on the sphinx rendered scikit-learn.org. See: https://github.com/scikit-learn/scikit-learn/issues/21755 */display: inline-block !important;position: relative;}#sk-container-id-1 div.sk-text-repr-fallback {display: none;}</style><div id=\"sk-container-id-1\" class=\"sk-top-container\"><div class=\"sk-text-repr-fallback\"><pre>RandomForestClassifier(max_depth=50, max_features=&#x27;auto&#x27;, n_estimators=20)</pre><b>In a Jupyter environment, please rerun this cell to show the HTML representation or trust the notebook. <br />On GitHub, the HTML representation is unable to render, please try loading this page with nbviewer.org.</b></div><div class=\"sk-container\" hidden><div class=\"sk-item\"><div class=\"sk-estimator sk-toggleable\"><input class=\"sk-toggleable__control sk-hidden--visually\" id=\"sk-estimator-id-1\" type=\"checkbox\" checked><label for=\"sk-estimator-id-1\" class=\"sk-toggleable__label sk-toggleable__label-arrow\">RandomForestClassifier</label><div class=\"sk-toggleable__content\"><pre>RandomForestClassifier(max_depth=50, max_features=&#x27;auto&#x27;, n_estimators=20)</pre></div></div></div></div></div>"
            ]
          },
          "metadata": {},
          "execution_count": 60
        }
      ],
      "source": [
        "model_randomforest = RandomForestClassifier( criterion='gini', max_depth=50, max_features='auto',n_estimators=20)\n",
        "model_randomforest.fit(x_train, y_train)"
      ]
    },
    {
      "cell_type": "code",
      "execution_count": null,
      "metadata": {
        "id": "DcMLGCDCr3wz",
        "colab": {
          "base_uri": "https://localhost:8080/"
        },
        "outputId": "735972b6-f3f0-4458-c54f-40305135deb2"
      },
      "outputs": [
        {
          "output_type": "execute_result",
          "data": {
            "text/plain": [
              "92.08899876390606"
            ]
          },
          "metadata": {},
          "execution_count": 61
        }
      ],
      "source": [
        "result= model_randomforest.score(x_train,y_train)*100\n",
        "result"
      ]
    },
    {
      "cell_type": "code",
      "execution_count": null,
      "metadata": {
        "id": "45zz9FBDsNIq",
        "colab": {
          "base_uri": "https://localhost:8080/"
        },
        "outputId": "b44998e2-7ae9-4075-a51d-a9f27903ffc9"
      },
      "outputs": [
        {
          "output_type": "execute_result",
          "data": {
            "text/plain": [
              "87.68472906403942"
            ]
          },
          "metadata": {},
          "execution_count": 62
        }
      ],
      "source": [
        "result= model_randomforest.score (x_test,y_test)*100\n",
        "result\n"
      ]
    },
    {
      "cell_type": "markdown",
      "metadata": {
        "id": "7utK7-OCshkk"
      },
      "source": [
        "Model Deployment"
      ]
    },
    {
      "cell_type": "code",
      "execution_count": null,
      "metadata": {
        "id": "njpvT71rsjl5"
      },
      "outputs": [],
      "source": [
        "import pickle\n",
        "pickle.dump(model_randomforest, open(\"model_randomforest.pkl\", 'wb'))"
      ]
    },
    {
      "cell_type": "code",
      "source": [
        "from sklearn.preprocessing import StandardScaler"
      ],
      "metadata": {
        "id": "Vg1ViOl77WC4"
      },
      "execution_count": null,
      "outputs": []
    },
    {
      "cell_type": "code",
      "execution_count": null,
      "metadata": {
        "id": "eRsoW8mEs-0d"
      },
      "outputs": [],
      "source": [
        "import pickle\n",
        "pickle.dump(scaler,open(\"churnscaler.pkl\", 'wb'))"
      ]
    },
    {
      "cell_type": "markdown",
      "metadata": {
        "id": "ipEXqD2JtKJ5"
      },
      "source": [
        "Integrate With Web Framework"
      ]
    },
    {
      "cell_type": "code",
      "execution_count": null,
      "metadata": {
        "id": "i7soMUSZtJXt"
      },
      "outputs": [],
      "source": [
        "from flask import Flask, render_template,request\n",
        "import pickle"
      ]
    },
    {
      "cell_type": "code",
      "execution_count": null,
      "metadata": {
        "id": "cl_XNZSUtm65"
      },
      "outputs": [],
      "source": [
        "model=pickle.load(open(\"model_randomforest.pkl\",\"rb\"))\n",
        "app=Flask(__name_)"
      ]
    },
    {
      "cell_type": "code",
      "execution_count": null,
      "metadata": {
        "id": "Pdx66-fSt-VP"
      },
      "outputs": [],
      "source": [
        "@app.route('/')\n",
        "def loadpage():\n",
        "return render_template('index.html')"
      ]
    },
    {
      "cell_type": "code",
      "execution_count": null,
      "metadata": {
        "id": "hdeSVXkluDqr"
      },
      "outputs": [],
      "source": [
        "@app.route('/y_predict', methods=['POST'])\n",
        "def prediction():\n",
        "\n",
        "  Age=request.form[\"Age\"]\n",
        "  SystolicBP=request.form[\"SystolicBP\"]\n",
        "  Diastolic BP=request.form[\"DiastolicBP\"]\n",
        "  BS=request.form[\"BS\"]\n",
        "  BodyTemp=request.form[\"Body Temp\"]\n",
        "  HeartRate=request.form[\"HeartRate\"]\n",
        "\n",
        "  p=[[float(Age), float (Systolic BP), float (Diastolic BP), float(BS), float (BodyTemp), float (HeartRate)]]\n",
        "  prediction=model.predict(p)\n",
        "\n",
        "  if (prediction == ['high risk']):\n",
        "    text= \"Patient is at High Risk\"\n",
        "  elif (prediction ['mid risk']):\n",
        "    text = \"Patient is at Mid Risk\"\n",
        "  else:\n",
        "    text=\"Patient is at Low Risk\"\n",
        "\n",
        "  return render_template(\"index.html\", prediction_test=text)"
      ]
    },
    {
      "cell_type": "code",
      "execution_count": null,
      "metadata": {
        "id": "ZxyWtsCevOnf"
      },
      "outputs": [],
      "source": [
        "if __name__ == '__main__':\n",
        "    app.run(debug=True)"
      ]
    }
  ],
  "metadata": {
    "colab": {
      "provenance": []
    },
    "kernelspec": {
      "display_name": "Python 3",
      "name": "python3"
    },
    "language_info": {
      "name": "python"
    }
  },
  "nbformat": 4,
  "nbformat_minor": 0
}